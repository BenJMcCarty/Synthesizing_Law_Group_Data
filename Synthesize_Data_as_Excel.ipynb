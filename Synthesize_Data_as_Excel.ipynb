{
 "cells": [
  {
   "cell_type": "code",
   "execution_count": 1,
   "metadata": {},
   "outputs": [
    {
     "name": "stdout",
     "output_type": "stream",
     "text": [
      "Dataset with noise, outliers, and unequal category counts has been created and saved as 'law_group_case_data_with_noise_and_outliers.xlsx'\n"
     ]
    }
   ],
   "source": [
    "import numpy as np\n",
    "import pandas as pd\n",
    "from faker import Faker\n",
    "\n",
    "# Setting up Faker for data generation\n",
    "fake = Faker(locale='en_US')\n",
    "Faker.seed(0)\n",
    "\n",
    "# Number of records\n",
    "num_records = 50000\n",
    "\n",
    "# Generate data fields for medical malpractice and personal injury cases\n",
    "client_data = {\n",
    "    'case_type': [np.random.choice(['Medical Malpractice', 'Personal Injury'], p=[0.3, 0.7]) for _ in range(num_records)],\n",
    "    'case_status': [np.random.choice(['Open', 'Closed', 'Settled', 'In Progress'], p=[0.4, 0.2, 0.3, 0.1]) for _ in range(num_records)],\n",
    "    'marketing_source': [np.random.choice(['Billboard', 'TV', 'Online', 'Referral', 'Radio'], p=[0.1, 0.2, 0.4, 0.2, 0.1]) for _ in range(num_records)],\n",
    "    'injury_type': [np.random.choice(['Fracture', 'Burn', 'Head Trauma', 'Soft Tissue Injury', 'Spinal Injury', 'Laceration', 'Psychological Trauma'], p=[0.15, 0.05, 0.1, 0.3, 0.1, 0.2, 0.1]) for _ in range(num_records)],\n",
    "    'medical_expense_amount': [int(np.abs(np.random.normal(loc=15000, scale=5000) + np.random.normal(0, 1000))) for _ in range(num_records)],  # Normal distribution with noise, absolute value\n",
    "    'potential_settlement_amount': [int(np.abs(np.random.normal(loc=75000, scale=20000) + np.random.normal(0, 5000))) for _ in range(num_records)],  # Normal distribution with noise, absolute value\n",
    "    'attorney_name': [np.random.choice([\"William J. Thompson\", \"Elizabeth M. Harris\", \"Michael A. Stevens\", \"Sarah K. Connor\", \"Jonathan P. Reed\"], p=[0.2, 0.2, 0.2, 0.2, 0.2]) for _ in range(num_records)],\n",
    "    'injury_severity_score': [np.random.randint(1, 10) for _ in range(num_records)],\n",
    "    'client_age': [np.random.randint(18, 90) for _ in range(num_records)],\n",
    "    'client_gender': [np.random.choice(['Male', 'Female', 'Non-binary'], p=[0.45, 0.45, 0.1]) for _ in range(num_records)],\n",
    "    'case_priority': [np.random.choice(['Low', 'Medium', 'High'], p=[0.3, 0.5, 0.2]) for _ in range(num_records)],\n",
    "    'insurance_claim_made': [np.random.choice([True, False], p=[0.6, 0.4]) for _ in range(num_records)],\n",
    "    'insured': [np.random.choice([0, 1], p=[0.7, 0.3]) for _ in range(num_records)],\n",
    "    'next_action': [np.random.choice(['Follow up', 'Await Documents', 'Schedule Meeting', 'Await Court Hearing'], p=[0.25, 0.25, 0.25, 0.25]) for _ in range(num_records)],\n",
    "}\n",
    "\n",
    "# Introduce outliers in 'medical_expense_amount' and 'potential_settlement_amount'\n",
    "num_outliers = int(0.01 * num_records)  # 1% of the records\n",
    "\n",
    "for _ in range(num_outliers):\n",
    "    client_data['medical_expense_amount'][np.random.randint(0, num_records)] = int(np.abs(np.random.normal(loc=100000, scale=20000)))  # Extreme high value, absolute value\n",
    "    client_data['potential_settlement_amount'][np.random.randint(0, num_records)] = int(np.abs(np.random.normal(loc=500000, scale=100000)))  # Extreme high value, absolute value\n",
    "\n",
    "# Create a DataFrame\n",
    "client_df = pd.DataFrame(client_data)\n",
    "\n",
    "# Save to an Excel file\n",
    "client_df.to_excel('./data/law_group_case_data_with_noise_and_outliers.xlsx', index=False)\n",
    "\n",
    "print(\"Dataset with noise, outliers, and unequal category counts has been created and saved as 'law_group_case_data_with_noise_and_outliers.xlsx'\")"
   ]
  },
  {
   "cell_type": "code",
   "execution_count": null,
   "metadata": {},
   "outputs": [],
   "source": []
  }
 ],
 "metadata": {
  "kernelspec": {
   "display_name": "Python (ds-env)",
   "language": "python",
   "name": "ds-env"
  },
  "language_info": {
   "codemirror_mode": {
    "name": "ipython",
    "version": 3
   },
   "file_extension": ".py",
   "mimetype": "text/x-python",
   "name": "python",
   "nbconvert_exporter": "python",
   "pygments_lexer": "ipython3",
   "version": "3.12.7"
  }
 },
 "nbformat": 4,
 "nbformat_minor": 2
}
