{
 "cells": [
  {
   "cell_type": "markdown",
   "metadata": {},
   "source": [
    "# EDA - Synthetic Data"
   ]
  },
  {
   "cell_type": "code",
   "execution_count": 1,
   "metadata": {},
   "outputs": [],
   "source": [
    "import numpy as np\n",
    "import pandas as pd\n",
    "import sweetviz as sv\n",
    "\n",
    "import matplotlib.pyplot as plt\n",
    "import seaborn as sns\n",
    "\n",
    "%matplotlib inline"
   ]
  },
  {
   "cell_type": "code",
   "execution_count": 2,
   "metadata": {},
   "outputs": [
    {
     "data": {
      "text/html": [
       "<div>\n",
       "<style scoped>\n",
       "    .dataframe tbody tr th:only-of-type {\n",
       "        vertical-align: middle;\n",
       "    }\n",
       "\n",
       "    .dataframe tbody tr th {\n",
       "        vertical-align: top;\n",
       "    }\n",
       "\n",
       "    .dataframe thead th {\n",
       "        text-align: right;\n",
       "    }\n",
       "</style>\n",
       "<table border=\"1\" class=\"dataframe\">\n",
       "  <thead>\n",
       "    <tr style=\"text-align: right;\">\n",
       "      <th></th>\n",
       "      <th>case_type</th>\n",
       "      <th>case_status</th>\n",
       "      <th>marketing_source</th>\n",
       "      <th>injury_type</th>\n",
       "      <th>medical_expense_amount</th>\n",
       "      <th>potential_settlement_amount</th>\n",
       "      <th>attorney_name</th>\n",
       "      <th>injury_severity_score</th>\n",
       "      <th>client_age</th>\n",
       "      <th>client_gender</th>\n",
       "      <th>case_priority</th>\n",
       "      <th>insurance_claim_made</th>\n",
       "      <th>insured</th>\n",
       "      <th>next_action</th>\n",
       "    </tr>\n",
       "  </thead>\n",
       "  <tbody>\n",
       "    <tr>\n",
       "      <th>0</th>\n",
       "      <td>Personal Injury</td>\n",
       "      <td>Open</td>\n",
       "      <td>TV</td>\n",
       "      <td>Soft Tissue Injury</td>\n",
       "      <td>23517</td>\n",
       "      <td>86381</td>\n",
       "      <td>Sarah K. Connor</td>\n",
       "      <td>1</td>\n",
       "      <td>26</td>\n",
       "      <td>Non-binary</td>\n",
       "      <td>Medium</td>\n",
       "      <td>True</td>\n",
       "      <td>0</td>\n",
       "      <td>Await Documents</td>\n",
       "    </tr>\n",
       "    <tr>\n",
       "      <th>1</th>\n",
       "      <td>Medical Malpractice</td>\n",
       "      <td>Open</td>\n",
       "      <td>Online</td>\n",
       "      <td>Laceration</td>\n",
       "      <td>25015</td>\n",
       "      <td>58349</td>\n",
       "      <td>William J. Thompson</td>\n",
       "      <td>4</td>\n",
       "      <td>21</td>\n",
       "      <td>Male</td>\n",
       "      <td>Low</td>\n",
       "      <td>True</td>\n",
       "      <td>1</td>\n",
       "      <td>Schedule Meeting</td>\n",
       "    </tr>\n",
       "    <tr>\n",
       "      <th>2</th>\n",
       "      <td>Personal Injury</td>\n",
       "      <td>In Progress</td>\n",
       "      <td>Radio</td>\n",
       "      <td>Soft Tissue Injury</td>\n",
       "      <td>104282</td>\n",
       "      <td>83816</td>\n",
       "      <td>Elizabeth M. Harris</td>\n",
       "      <td>2</td>\n",
       "      <td>87</td>\n",
       "      <td>Male</td>\n",
       "      <td>Medium</td>\n",
       "      <td>False</td>\n",
       "      <td>0</td>\n",
       "      <td>Await Documents</td>\n",
       "    </tr>\n",
       "    <tr>\n",
       "      <th>3</th>\n",
       "      <td>Medical Malpractice</td>\n",
       "      <td>Settled</td>\n",
       "      <td>Referral</td>\n",
       "      <td>Laceration</td>\n",
       "      <td>10403</td>\n",
       "      <td>99481</td>\n",
       "      <td>Jonathan P. Reed</td>\n",
       "      <td>9</td>\n",
       "      <td>45</td>\n",
       "      <td>Non-binary</td>\n",
       "      <td>High</td>\n",
       "      <td>True</td>\n",
       "      <td>0</td>\n",
       "      <td>Follow up</td>\n",
       "    </tr>\n",
       "    <tr>\n",
       "      <th>4</th>\n",
       "      <td>Personal Injury</td>\n",
       "      <td>Closed</td>\n",
       "      <td>Referral</td>\n",
       "      <td>Fracture</td>\n",
       "      <td>15198</td>\n",
       "      <td>85524</td>\n",
       "      <td>Elizabeth M. Harris</td>\n",
       "      <td>1</td>\n",
       "      <td>66</td>\n",
       "      <td>Non-binary</td>\n",
       "      <td>Medium</td>\n",
       "      <td>False</td>\n",
       "      <td>0</td>\n",
       "      <td>Schedule Meeting</td>\n",
       "    </tr>\n",
       "    <tr>\n",
       "      <th>...</th>\n",
       "      <td>...</td>\n",
       "      <td>...</td>\n",
       "      <td>...</td>\n",
       "      <td>...</td>\n",
       "      <td>...</td>\n",
       "      <td>...</td>\n",
       "      <td>...</td>\n",
       "      <td>...</td>\n",
       "      <td>...</td>\n",
       "      <td>...</td>\n",
       "      <td>...</td>\n",
       "      <td>...</td>\n",
       "      <td>...</td>\n",
       "      <td>...</td>\n",
       "    </tr>\n",
       "    <tr>\n",
       "      <th>49995</th>\n",
       "      <td>Personal Injury</td>\n",
       "      <td>Closed</td>\n",
       "      <td>Online</td>\n",
       "      <td>Burn</td>\n",
       "      <td>11765</td>\n",
       "      <td>85042</td>\n",
       "      <td>William J. Thompson</td>\n",
       "      <td>4</td>\n",
       "      <td>58</td>\n",
       "      <td>Female</td>\n",
       "      <td>Medium</td>\n",
       "      <td>True</td>\n",
       "      <td>0</td>\n",
       "      <td>Await Documents</td>\n",
       "    </tr>\n",
       "    <tr>\n",
       "      <th>49996</th>\n",
       "      <td>Personal Injury</td>\n",
       "      <td>Open</td>\n",
       "      <td>Billboard</td>\n",
       "      <td>Soft Tissue Injury</td>\n",
       "      <td>7062</td>\n",
       "      <td>91998</td>\n",
       "      <td>Michael A. Stevens</td>\n",
       "      <td>3</td>\n",
       "      <td>76</td>\n",
       "      <td>Male</td>\n",
       "      <td>Low</td>\n",
       "      <td>True</td>\n",
       "      <td>0</td>\n",
       "      <td>Await Documents</td>\n",
       "    </tr>\n",
       "    <tr>\n",
       "      <th>49997</th>\n",
       "      <td>Medical Malpractice</td>\n",
       "      <td>Open</td>\n",
       "      <td>TV</td>\n",
       "      <td>Fracture</td>\n",
       "      <td>14490</td>\n",
       "      <td>71351</td>\n",
       "      <td>William J. Thompson</td>\n",
       "      <td>8</td>\n",
       "      <td>30</td>\n",
       "      <td>Non-binary</td>\n",
       "      <td>Low</td>\n",
       "      <td>True</td>\n",
       "      <td>0</td>\n",
       "      <td>Schedule Meeting</td>\n",
       "    </tr>\n",
       "    <tr>\n",
       "      <th>49998</th>\n",
       "      <td>Medical Malpractice</td>\n",
       "      <td>Settled</td>\n",
       "      <td>Billboard</td>\n",
       "      <td>Laceration</td>\n",
       "      <td>16181</td>\n",
       "      <td>71712</td>\n",
       "      <td>Michael A. Stevens</td>\n",
       "      <td>5</td>\n",
       "      <td>75</td>\n",
       "      <td>Male</td>\n",
       "      <td>Low</td>\n",
       "      <td>True</td>\n",
       "      <td>0</td>\n",
       "      <td>Follow up</td>\n",
       "    </tr>\n",
       "    <tr>\n",
       "      <th>49999</th>\n",
       "      <td>Personal Injury</td>\n",
       "      <td>Closed</td>\n",
       "      <td>TV</td>\n",
       "      <td>Fracture</td>\n",
       "      <td>16615</td>\n",
       "      <td>85285</td>\n",
       "      <td>Jonathan P. Reed</td>\n",
       "      <td>5</td>\n",
       "      <td>35</td>\n",
       "      <td>Female</td>\n",
       "      <td>Low</td>\n",
       "      <td>True</td>\n",
       "      <td>0</td>\n",
       "      <td>Await Court Hearing</td>\n",
       "    </tr>\n",
       "  </tbody>\n",
       "</table>\n",
       "<p>50000 rows × 14 columns</p>\n",
       "</div>"
      ],
      "text/plain": [
       "                 case_type  case_status marketing_source         injury_type  \\\n",
       "0          Personal Injury         Open               TV  Soft Tissue Injury   \n",
       "1      Medical Malpractice         Open           Online          Laceration   \n",
       "2          Personal Injury  In Progress            Radio  Soft Tissue Injury   \n",
       "3      Medical Malpractice      Settled         Referral          Laceration   \n",
       "4          Personal Injury       Closed         Referral            Fracture   \n",
       "...                    ...          ...              ...                 ...   \n",
       "49995      Personal Injury       Closed           Online                Burn   \n",
       "49996      Personal Injury         Open        Billboard  Soft Tissue Injury   \n",
       "49997  Medical Malpractice         Open               TV            Fracture   \n",
       "49998  Medical Malpractice      Settled        Billboard          Laceration   \n",
       "49999      Personal Injury       Closed               TV            Fracture   \n",
       "\n",
       "       medical_expense_amount  potential_settlement_amount  \\\n",
       "0                       23517                        86381   \n",
       "1                       25015                        58349   \n",
       "2                      104282                        83816   \n",
       "3                       10403                        99481   \n",
       "4                       15198                        85524   \n",
       "...                       ...                          ...   \n",
       "49995                   11765                        85042   \n",
       "49996                    7062                        91998   \n",
       "49997                   14490                        71351   \n",
       "49998                   16181                        71712   \n",
       "49999                   16615                        85285   \n",
       "\n",
       "             attorney_name  injury_severity_score  client_age client_gender  \\\n",
       "0          Sarah K. Connor                      1          26    Non-binary   \n",
       "1      William J. Thompson                      4          21          Male   \n",
       "2      Elizabeth M. Harris                      2          87          Male   \n",
       "3         Jonathan P. Reed                      9          45    Non-binary   \n",
       "4      Elizabeth M. Harris                      1          66    Non-binary   \n",
       "...                    ...                    ...         ...           ...   \n",
       "49995  William J. Thompson                      4          58        Female   \n",
       "49996   Michael A. Stevens                      3          76          Male   \n",
       "49997  William J. Thompson                      8          30    Non-binary   \n",
       "49998   Michael A. Stevens                      5          75          Male   \n",
       "49999     Jonathan P. Reed                      5          35        Female   \n",
       "\n",
       "      case_priority  insurance_claim_made  insured          next_action  \n",
       "0            Medium                  True        0      Await Documents  \n",
       "1               Low                  True        1     Schedule Meeting  \n",
       "2            Medium                 False        0      Await Documents  \n",
       "3              High                  True        0            Follow up  \n",
       "4            Medium                 False        0     Schedule Meeting  \n",
       "...             ...                   ...      ...                  ...  \n",
       "49995        Medium                  True        0      Await Documents  \n",
       "49996           Low                  True        0      Await Documents  \n",
       "49997           Low                  True        0     Schedule Meeting  \n",
       "49998           Low                  True        0            Follow up  \n",
       "49999           Low                  True        0  Await Court Hearing  \n",
       "\n",
       "[50000 rows x 14 columns]"
      ]
     },
     "execution_count": 2,
     "metadata": {},
     "output_type": "execute_result"
    }
   ],
   "source": [
    "case_info = './data/law_group_case_data_with_noise_and_outliers.xlsx'\n",
    "\n",
    "df = pd.read_excel(case_info)\n",
    "\n",
    "df"
   ]
  },
  {
   "cell_type": "code",
   "execution_count": 3,
   "metadata": {},
   "outputs": [],
   "source": [
    "# sv.analyze(df, pairwise_analysis='off').show_notebook()"
   ]
  },
  {
   "cell_type": "markdown",
   "metadata": {},
   "source": [
    "# Data Review\n",
    "\n",
    "---\n",
    "\n",
    "As the data was artificially created for demonstration purposes, I know that there are a mix of balanced and imbalanced categorical features, as well as numeric features containing outliers.\n",
    "\n",
    "For purposes of this EDA notebook, I will review each feature in the context of the target feature, `potential_settlement_amount`.\n",
    "\n",
    "---"
   ]
  },
  {
   "cell_type": "code",
   "execution_count": 4,
   "metadata": {},
   "outputs": [
    {
     "data": {
      "text/plain": [
       "['case_type',\n",
       " 'case_status',\n",
       " 'marketing_source',\n",
       " 'injury_type',\n",
       " 'medical_expense_amount',\n",
       " 'potential_settlement_amount',\n",
       " 'attorney_name',\n",
       " 'injury_severity_score',\n",
       " 'client_age',\n",
       " 'client_gender',\n",
       " 'case_priority',\n",
       " 'insurance_claim_made',\n",
       " 'insured',\n",
       " 'next_action']"
      ]
     },
     "execution_count": 4,
     "metadata": {},
     "output_type": "execute_result"
    }
   ],
   "source": [
    "df.columns.to_list()"
   ]
  },
  {
   "cell_type": "markdown",
   "metadata": {},
   "source": [
    "# Feature: `case_type`"
   ]
  },
  {
   "cell_type": "code",
   "execution_count": 5,
   "metadata": {},
   "outputs": [
    {
     "data": {
      "text/plain": [
       "count               50000\n",
       "unique                  2\n",
       "top       Personal Injury\n",
       "freq                35098\n",
       "Name: case_type, dtype: object"
      ]
     },
     "execution_count": 5,
     "metadata": {},
     "output_type": "execute_result"
    }
   ],
   "source": [
    "df['case_type'].describe()"
   ]
  },
  {
   "cell_type": "code",
   "execution_count": 6,
   "metadata": {},
   "outputs": [
    {
     "data": {
      "text/plain": [
       "case_type\n",
       "Personal Injury        0.702\n",
       "Medical Malpractice    0.298\n",
       "Name: proportion, dtype: float64"
      ]
     },
     "execution_count": 6,
     "metadata": {},
     "output_type": "execute_result"
    }
   ],
   "source": [
    "df['case_type'].value_counts(normalize=True, ascending=False, dropna=False).round(3)"
   ]
  },
  {
   "cell_type": "markdown",
   "metadata": {},
   "source": [
    "---\n",
    "\n",
    "**Review:**\n",
    "\n",
    "* Categorical feature\n",
    "* Imbalanced classes - problematic for classification modeling if used.\n",
    "* Higher number of personal injury cases raises questions\n",
    "    * *Are there more leads for such cases?*\n",
    "    * *Is the law firm positioned more strongly to handle personal injury cases?*\n",
    "    * Deeper investigation required.\n",
    "\n",
    "---"
   ]
  },
  {
   "cell_type": "markdown",
   "metadata": {},
   "source": [
    "# Feature: `case_status`"
   ]
  },
  {
   "cell_type": "code",
   "execution_count": 7,
   "metadata": {},
   "outputs": [
    {
     "data": {
      "text/plain": [
       "count     50000\n",
       "unique        4\n",
       "top        Open\n",
       "freq      20048\n",
       "Name: case_status, dtype: object"
      ]
     },
     "execution_count": 7,
     "metadata": {},
     "output_type": "execute_result"
    }
   ],
   "source": [
    "df['case_status'].describe()"
   ]
  },
  {
   "cell_type": "code",
   "execution_count": 8,
   "metadata": {},
   "outputs": [
    {
     "data": {
      "text/plain": [
       "case_status\n",
       "Open           0.401\n",
       "Settled        0.299\n",
       "Closed         0.201\n",
       "In Progress    0.099\n",
       "Name: proportion, dtype: float64"
      ]
     },
     "execution_count": 8,
     "metadata": {},
     "output_type": "execute_result"
    }
   ],
   "source": [
    "df['case_status'].value_counts(normalize=True, ascending=False, dropna=False).round(3)"
   ]
  },
  {
   "cell_type": "markdown",
   "metadata": {},
   "source": [
    "---\n",
    "\n",
    "**Review:**\n",
    "\n",
    "* Categorical feature\n",
    "* Imbalanced classes - problematic for classification modeling if used.\n",
    "\n",
    "* Large percentage of \"Open\" and \"In Progress\" cases\n",
    "    * What are the bottlenecks preventing cases from progressing down the lifecycle?\n",
    "    * How can technology help smooth out the intake and lead conversion processes?\n",
    "\n",
    "---"
   ]
  },
  {
   "cell_type": "markdown",
   "metadata": {},
   "source": [
    "# Feature: `marketing_source`"
   ]
  },
  {
   "cell_type": "code",
   "execution_count": 9,
   "metadata": {},
   "outputs": [
    {
     "data": {
      "text/plain": [
       "count      50000\n",
       "unique         5\n",
       "top       Online\n",
       "freq       19982\n",
       "Name: marketing_source, dtype: object"
      ]
     },
     "execution_count": 9,
     "metadata": {},
     "output_type": "execute_result"
    }
   ],
   "source": [
    "df['marketing_source'].describe()"
   ]
  },
  {
   "cell_type": "code",
   "execution_count": 10,
   "metadata": {},
   "outputs": [
    {
     "data": {
      "text/plain": [
       "marketing_source\n",
       "Online       0.400\n",
       "Referral     0.198\n",
       "TV           0.198\n",
       "Billboard    0.103\n",
       "Radio        0.102\n",
       "Name: proportion, dtype: float64"
      ]
     },
     "execution_count": 10,
     "metadata": {},
     "output_type": "execute_result"
    }
   ],
   "source": [
    "df['marketing_source'].value_counts(normalize=True, ascending=False, dropna=False).round(3)"
   ]
  },
  {
   "cell_type": "markdown",
   "metadata": {},
   "source": [
    "---\n",
    "\n",
    "**Review:**\n",
    "\n",
    "* Categorical feature\n",
    "* Imbalanced classes - problematic for classification modeling if used.\n",
    "\n",
    "* Online referrals are strongest, followed by referrals from previous cases and from TV.\n",
    "    * Marketing should focus on implementing solutions targeted to these sources.\n",
    "    * How could they improve the \"referral\" score? Better post-case followup?\n",
    "\n",
    "---"
   ]
  },
  {
   "cell_type": "markdown",
   "metadata": {},
   "source": [
    "# Feature: `injury_type`"
   ]
  },
  {
   "cell_type": "code",
   "execution_count": 11,
   "metadata": {},
   "outputs": [
    {
     "data": {
      "text/plain": [
       "count                  50000\n",
       "unique                     7\n",
       "top       Soft Tissue Injury\n",
       "freq                   15119\n",
       "Name: injury_type, dtype: object"
      ]
     },
     "execution_count": 11,
     "metadata": {},
     "output_type": "execute_result"
    }
   ],
   "source": [
    "df['injury_type'].describe()"
   ]
  },
  {
   "cell_type": "code",
   "execution_count": 12,
   "metadata": {},
   "outputs": [
    {
     "data": {
      "text/plain": [
       "injury_type\n",
       "Soft Tissue Injury      0.302\n",
       "Laceration              0.196\n",
       "Fracture                0.152\n",
       "Psychological Trauma    0.101\n",
       "Head Trauma             0.099\n",
       "Spinal Injury           0.099\n",
       "Burn                    0.050\n",
       "Name: proportion, dtype: float64"
      ]
     },
     "execution_count": 12,
     "metadata": {},
     "output_type": "execute_result"
    }
   ],
   "source": [
    "df['injury_type'].value_counts(normalize=True, ascending=False, dropna=False).round(3)"
   ]
  },
  {
   "cell_type": "markdown",
   "metadata": {},
   "source": [
    "---\n",
    "\n",
    "**Review:**\n",
    "\n",
    "* Categorical feature\n",
    "* Imbalanced classes - problematic for classification modeling if used.\n",
    "\n",
    "* How can we determine the scale/impact of the injury type? Can we convert this feature to an ordinal feature?\n",
    "\n",
    "---"
   ]
  },
  {
   "cell_type": "markdown",
   "metadata": {},
   "source": [
    "# Feature: `medical_expense_amount`"
   ]
  },
  {
   "cell_type": "code",
   "execution_count": 13,
   "metadata": {},
   "outputs": [
    {
     "data": {
      "text/plain": [
       "count     50000.00\n",
       "mean      15864.74\n",
       "std       10132.40\n",
       "min           1.00\n",
       "25%       11625.75\n",
       "50%       15082.00\n",
       "75%       18573.00\n",
       "max      160328.00\n",
       "Name: medical_expense_amount, dtype: float64"
      ]
     },
     "execution_count": 13,
     "metadata": {},
     "output_type": "execute_result"
    }
   ],
   "source": [
    "df['medical_expense_amount'].describe().round(2)"
   ]
  },
  {
   "cell_type": "code",
   "execution_count": 14,
   "metadata": {},
   "outputs": [
    {
     "data": {
      "text/plain": [
       "<Axes: xlabel='medical_expense_amount', ylabel='potential_settlement_amount'>"
      ]
     },
     "execution_count": 14,
     "metadata": {},
     "output_type": "execute_result"
    },
    {
     "data": {
      "image/png": "[encoded data removed]",
      "text/plain": [
       "<Figure size 640x480 with 1 Axes>"
      ]
     },
     "metadata": {},
     "output_type": "display_data"
    }
   ],
   "source": [
    "sns.regplot(data=df, x='medical_expense_amount', y = 'potential_settlement_amount')"
   ]
  },
  {
   "cell_type": "markdown",
   "metadata": {},
   "source": [
    "---\n",
    "\n",
    "**Review:**\n",
    "\n",
    "* Continuous feature\n",
    "* Outliers present in both `medical_expense_amount` and `potential_settlement_amount`.\n",
    "    * Consider either capping via winsorizer or performing power transformation to scale the features down.\n",
    "\n",
    "* How can we determine the scale/impact of the injury type? Can we convert this feature to an ordinal feature?\n",
    "\n",
    "---"
   ]
  },
  {
   "cell_type": "markdown",
   "metadata": {},
   "source": [
    "# Feature: `potential_settlement_amount`"
   ]
  },
  {
   "cell_type": "code",
   "execution_count": 15,
   "metadata": {},
   "outputs": [
    {
     "data": {
      "text/plain": [
       "count     50000.0\n",
       "mean      79317.0\n",
       "std       47930.0\n",
       "min         275.0\n",
       "25%       61368.0\n",
       "50%       75357.0\n",
       "75%       89568.0\n",
       "max      802955.0\n",
       "Name: potential_settlement_amount, dtype: float64"
      ]
     },
     "execution_count": 15,
     "metadata": {},
     "output_type": "execute_result"
    }
   ],
   "source": [
    "df['potential_settlement_amount'].describe().round(0)"
   ]
  },
  {
   "cell_type": "code",
   "execution_count": 16,
   "metadata": {},
   "outputs": [
    {
     "data": {
      "text/plain": [
       "<Axes: >"
      ]
     },
     "execution_count": 16,
     "metadata": {},
     "output_type": "execute_result"
    },
    {
     "data": {
      "image/png": "[encoded data removed]",
      "text/plain": [
       "<Figure size 640x480 with 1 Axes>"
      ]
     },
     "metadata": {},
     "output_type": "display_data"
    }
   ],
   "source": [
    "df['potential_settlement_amount'].plot(kind = 'box')"
   ]
  },
  {
   "cell_type": "markdown",
   "metadata": {},
   "source": [
    "---\n",
    "\n",
    "**Review:**\n",
    "\n",
    "* Continuous feature\n",
    "* Target feature for regression modeling\n",
    "* Large number of outliers\n",
    "    * Need to determine how best to handle - e.g., cap or transform?\n",
    "\n",
    "* Which features show the strongest impact on the `potential_settlement_amount`?\n",
    "    * To what degree does each feature impact the amount?\n",
    "* How would we identify the highest-grossing cases and how to break them down by each category?\n",
    "\n",
    "---"
   ]
  },
  {
   "cell_type": "markdown",
   "metadata": {},
   "source": [
    "# Feature: `attorney_name`"
   ]
  },
  {
   "cell_type": "code",
   "execution_count": 17,
   "metadata": {},
   "outputs": [
    {
     "data": {
      "text/plain": [
       "count               50000\n",
       "unique                  5\n",
       "top       Sarah K. Connor\n",
       "freq                10044\n",
       "Name: attorney_name, dtype: object"
      ]
     },
     "execution_count": 17,
     "metadata": {},
     "output_type": "execute_result"
    }
   ],
   "source": [
    "df['attorney_name'].describe()"
   ]
  },
  {
   "cell_type": "code",
   "execution_count": 18,
   "metadata": {},
   "outputs": [
    {
     "data": {
      "text/plain": [
       "attorney_name\n",
       "Sarah K. Connor        0.201\n",
       "William J. Thompson    0.201\n",
       "Elizabeth M. Harris    0.200\n",
       "Jonathan P. Reed       0.200\n",
       "Michael A. Stevens     0.198\n",
       "Name: proportion, dtype: float64"
      ]
     },
     "execution_count": 18,
     "metadata": {},
     "output_type": "execute_result"
    }
   ],
   "source": [
    "df['attorney_name'].value_counts(normalize=True, ascending=False, dropna=False).round(3)"
   ]
  },
  {
   "cell_type": "markdown",
   "metadata": {},
   "source": [
    "---\n",
    "\n",
    "**Review:**\n",
    "\n",
    "* Categorical feature\n",
    "* Imbalanced classes - problematic for classification modeling if used.\n",
    "\n",
    "* Which lawyers are most profitable?\n",
    "* Which lawyers are handling the most cases?\n",
    "* Is there a way to balance the workloads while maintaining profitability?\n",
    "\n",
    "---"
   ]
  },
  {
   "cell_type": "markdown",
   "metadata": {},
   "source": [
    "# Feature: `injury_severity_score`"
   ]
  },
  {
   "cell_type": "code",
   "execution_count": 19,
   "metadata": {},
   "outputs": [
    {
     "data": {
      "text/plain": [
       "count    50000.0\n",
       "mean         5.0\n",
       "std          3.0\n",
       "min          1.0\n",
       "25%          3.0\n",
       "50%          5.0\n",
       "75%          7.0\n",
       "max          9.0\n",
       "Name: injury_severity_score, dtype: float64"
      ]
     },
     "execution_count": 19,
     "metadata": {},
     "output_type": "execute_result"
    }
   ],
   "source": [
    "df['injury_severity_score'].describe().round(0)"
   ]
  },
  {
   "cell_type": "code",
   "execution_count": 20,
   "metadata": {},
   "outputs": [
    {
     "data": {
      "text/plain": [
       "injury_severity_score\n",
       "8    0.11\n",
       "1    0.11\n",
       "2    0.11\n",
       "7    0.11\n",
       "9    0.11\n",
       "5    0.11\n",
       "3    0.11\n",
       "4    0.11\n",
       "6    0.11\n",
       "Name: proportion, dtype: float64"
      ]
     },
     "execution_count": 20,
     "metadata": {},
     "output_type": "execute_result"
    }
   ],
   "source": [
    "df['injury_severity_score'].value_counts(normalize=True, ascending=False, dropna=False).round(2)"
   ]
  },
  {
   "cell_type": "markdown",
   "metadata": {},
   "source": [
    "---\n",
    "\n",
    "**Review:**\n",
    "\n",
    "* Ordinal feature\n",
    "* Balanced classes - may need to revisit dataset synthesis to correct.\n",
    "* Test whether its best to treat as a categorical or continuous feature.\n",
    "\n",
    "---"
   ]
  },
  {
   "cell_type": "markdown",
   "metadata": {},
   "source": [
    "# Feature: `client_age`"
   ]
  },
  {
   "cell_type": "code",
   "execution_count": 21,
   "metadata": {},
   "outputs": [
    {
     "data": {
      "text/plain": [
       "count    50000.0\n",
       "mean        53.0\n",
       "std         21.0\n",
       "min         18.0\n",
       "25%         35.0\n",
       "50%         53.0\n",
       "75%         71.0\n",
       "max         89.0\n",
       "Name: client_age, dtype: float64"
      ]
     },
     "execution_count": 21,
     "metadata": {},
     "output_type": "execute_result"
    }
   ],
   "source": [
    "df['client_age'].describe().round(0)"
   ]
  },
  {
   "cell_type": "code",
   "execution_count": 22,
   "metadata": {},
   "outputs": [
    {
     "data": {
      "text/plain": [
       "client_age\n",
       "32    0.02\n",
       "48    0.02\n",
       "75    0.01\n",
       "65    0.01\n",
       "55    0.01\n",
       "      ... \n",
       "81    0.01\n",
       "56    0.01\n",
       "83    0.01\n",
       "28    0.01\n",
       "38    0.01\n",
       "Name: proportion, Length: 72, dtype: float64"
      ]
     },
     "execution_count": 22,
     "metadata": {},
     "output_type": "execute_result"
    }
   ],
   "source": [
    "df['client_age'].value_counts(normalize=True, ascending=False, dropna=False).round(2)"
   ]
  },
  {
   "cell_type": "code",
   "execution_count": 23,
   "metadata": {},
   "outputs": [
    {
     "data": {
      "text/plain": [
       "<Axes: xlabel='client_age', ylabel='Count'>"
      ]
     },
     "execution_count": 23,
     "metadata": {},
     "output_type": "execute_result"
    },
    {
     "data": {
      "image/png": "[encoded data removed]",
      "text/plain": [
       "<Figure size 640x480 with 1 Axes>"
      ]
     },
     "metadata": {},
     "output_type": "display_data"
    }
   ],
   "source": [
    "sns.histplot(data=df, x='client_age', bins=20)"
   ]
  },
  {
   "cell_type": "markdown",
   "metadata": {},
   "source": [
    "---\n",
    "\n",
    "**Review:**\n",
    "\n",
    "* Continuous feature, possibly ordinal?\n",
    "* Nearly uniform distribution of values.\n",
    "\n",
    "* How does a client's age affect the potential outcome of their case?\n",
    "\n",
    "---"
   ]
  },
  {
   "cell_type": "markdown",
   "metadata": {},
   "source": [
    "# Feature: `client_gender`"
   ]
  },
  {
   "cell_type": "code",
   "execution_count": 24,
   "metadata": {},
   "outputs": [
    {
     "data": {
      "text/plain": [
       "count     50000\n",
       "unique        3\n",
       "top        Male\n",
       "freq      22538\n",
       "Name: client_gender, dtype: object"
      ]
     },
     "execution_count": 24,
     "metadata": {},
     "output_type": "execute_result"
    }
   ],
   "source": [
    "df['client_gender'].describe()"
   ]
  },
  {
   "cell_type": "code",
   "execution_count": 25,
   "metadata": {},
   "outputs": [
    {
     "data": {
      "text/plain": [
       "client_gender\n",
       "Male          0.451\n",
       "Female        0.448\n",
       "Non-binary    0.101\n",
       "Name: proportion, dtype: float64"
      ]
     },
     "execution_count": 25,
     "metadata": {},
     "output_type": "execute_result"
    }
   ],
   "source": [
    "df['client_gender'].value_counts(normalize=True, ascending=False, dropna=False).round(3)"
   ]
  },
  {
   "cell_type": "markdown",
   "metadata": {},
   "source": [
    "---\n",
    "\n",
    "**Review:**\n",
    "\n",
    "* Categorical feature\n",
    "* Imbalanced classes - problematic for classification modeling if used.\n",
    "\n",
    "* Carefully consider how to use this feature\n",
    "    * Sensitive information\n",
    "    * May introduce biases to the data interpretation.\n",
    "\n",
    "---"
   ]
  },
  {
   "cell_type": "markdown",
   "metadata": {},
   "source": [
    "# Feature: `case_priority`"
   ]
  },
  {
   "cell_type": "code",
   "execution_count": 26,
   "metadata": {},
   "outputs": [
    {
     "data": {
      "text/plain": [
       "count      50000\n",
       "unique         3\n",
       "top       Medium\n",
       "freq       24961\n",
       "Name: case_priority, dtype: object"
      ]
     },
     "execution_count": 26,
     "metadata": {},
     "output_type": "execute_result"
    }
   ],
   "source": [
    "df['case_priority'].describe()"
   ]
  },
  {
   "cell_type": "code",
   "execution_count": 27,
   "metadata": {},
   "outputs": [
    {
     "data": {
      "text/plain": [
       "case_priority\n",
       "Medium    0.499\n",
       "Low       0.302\n",
       "High      0.199\n",
       "Name: proportion, dtype: float64"
      ]
     },
     "execution_count": 27,
     "metadata": {},
     "output_type": "execute_result"
    }
   ],
   "source": [
    "df['case_priority'].value_counts(normalize=True, ascending=False, dropna=False).round(3)"
   ]
  },
  {
   "cell_type": "markdown",
   "metadata": {},
   "source": [
    "---\n",
    "\n",
    "**Review:**\n",
    "\n",
    "* Categorical feature\n",
    "* Consider converting to ordinal feature\n",
    "* Imbalanced classes - problematic for classification modeling if used.\n",
    "\n",
    "* How are these cases classified?\n",
    "* Is this a valid category for classification modeling?\n",
    "---"
   ]
  },
  {
   "cell_type": "markdown",
   "metadata": {},
   "source": [
    "# Feature: `insurance_claim_made`"
   ]
  },
  {
   "cell_type": "code",
   "execution_count": 28,
   "metadata": {},
   "outputs": [
    {
     "data": {
      "text/plain": [
       "count     50000\n",
       "unique        2\n",
       "top        True\n",
       "freq      30045\n",
       "Name: insurance_claim_made, dtype: object"
      ]
     },
     "execution_count": 28,
     "metadata": {},
     "output_type": "execute_result"
    }
   ],
   "source": [
    "df['insurance_claim_made'].describe()"
   ]
  },
  {
   "cell_type": "code",
   "execution_count": 29,
   "metadata": {},
   "outputs": [
    {
     "data": {
      "text/plain": [
       "insurance_claim_made\n",
       "True     0.601\n",
       "False    0.399\n",
       "Name: proportion, dtype: float64"
      ]
     },
     "execution_count": 29,
     "metadata": {},
     "output_type": "execute_result"
    }
   ],
   "source": [
    "df['insurance_claim_made'].value_counts(normalize=True, ascending=False, dropna=False).round(3)"
   ]
  },
  {
   "cell_type": "markdown",
   "metadata": {},
   "source": [
    "---\n",
    "\n",
    "**Review:**\n",
    "\n",
    "* Categorical feature\n",
    "* Consider converting to ordinal feature\n",
    "* Imbalanced classes - problematic for classification modeling if used.\n",
    "\n",
    "* Is this information commonly known for the cases?\n",
    "---"
   ]
  },
  {
   "cell_type": "markdown",
   "metadata": {},
   "source": [
    "# Feature: `insured`"
   ]
  },
  {
   "cell_type": "code",
   "execution_count": 30,
   "metadata": {},
   "outputs": [
    {
     "data": {
      "text/plain": [
       "count    50000.000000\n",
       "mean         0.302300\n",
       "std          0.459259\n",
       "min          0.000000\n",
       "25%          0.000000\n",
       "50%          0.000000\n",
       "75%          1.000000\n",
       "max          1.000000\n",
       "Name: insured, dtype: float64"
      ]
     },
     "execution_count": 30,
     "metadata": {},
     "output_type": "execute_result"
    }
   ],
   "source": [
    "df['insured'].describe()"
   ]
  },
  {
   "cell_type": "code",
   "execution_count": 31,
   "metadata": {},
   "outputs": [
    {
     "data": {
      "text/plain": [
       "insured\n",
       "0    0.698\n",
       "1    0.302\n",
       "Name: proportion, dtype: float64"
      ]
     },
     "execution_count": 31,
     "metadata": {},
     "output_type": "execute_result"
    }
   ],
   "source": [
    "df['insured'].value_counts(normalize=True, ascending=False, dropna=False).round(3)"
   ]
  },
  {
   "cell_type": "markdown",
   "metadata": {},
   "source": [
    "---\n",
    "\n",
    "**Review:**\n",
    "\n",
    "* Categorical feature encoded as binary\n",
    "* Consider converting to ordinal feature\n",
    "* Imbalanced classes - problematic for classification modeling if used.\n",
    "---"
   ]
  },
  {
   "cell_type": "markdown",
   "metadata": {},
   "source": [
    "# Feature: `next_action`"
   ]
  },
  {
   "cell_type": "code",
   "execution_count": 32,
   "metadata": {},
   "outputs": [
    {
     "data": {
      "text/plain": [
       "count                50000\n",
       "unique                   4\n",
       "top       Schedule Meeting\n",
       "freq                 12562\n",
       "Name: next_action, dtype: object"
      ]
     },
     "execution_count": 32,
     "metadata": {},
     "output_type": "execute_result"
    }
   ],
   "source": [
    "df['next_action'].describe()"
   ]
  },
  {
   "cell_type": "code",
   "execution_count": 33,
   "metadata": {},
   "outputs": [
    {
     "data": {
      "text/plain": [
       "next_action\n",
       "Schedule Meeting       0.251\n",
       "Await Documents        0.251\n",
       "Follow up              0.251\n",
       "Await Court Hearing    0.247\n",
       "Name: proportion, dtype: float64"
      ]
     },
     "execution_count": 33,
     "metadata": {},
     "output_type": "execute_result"
    }
   ],
   "source": [
    "df['next_action'].value_counts(normalize=True, ascending=False, dropna=False).round(3)"
   ]
  },
  {
   "cell_type": "markdown",
   "metadata": {},
   "source": [
    "---\n",
    "\n",
    "**Review:**\n",
    "\n",
    "* Categorical feature\n",
    "* Balanced classes\n",
    "---"
   ]
  },
  {
   "cell_type": "code",
   "execution_count": null,
   "metadata": {},
   "outputs": [],
   "source": []
  }
 ],
 "metadata": {
  "kernelspec": {
   "display_name": "Python (ds-env)",
   "language": "python",
   "name": "ds-env"
  },
  "language_info": {
   "codemirror_mode": {
    "name": "ipython",
    "version": 3
   },
   "file_extension": ".py",
   "mimetype": "text/x-python",
   "name": "python",
   "nbconvert_exporter": "python",
   "pygments_lexer": "ipython3",
   "version": "3.12.7"
  }
 },
 "nbformat": 4,
 "nbformat_minor": 2
}
